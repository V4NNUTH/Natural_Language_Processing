{
 "cells": [
  {
   "cell_type": "code",
   "execution_count": 4,
   "id": "7d540fbe",
   "metadata": {},
   "outputs": [],
   "source": [
    "def text2paragraphs(filename, min_size=1):\n",
    "    #A Text contained in the files 'filename' will be read\n",
    "    # and chopped into paragraph. Paragraph with a string\n",
    "    #length less than min_size will be ignored.\n",
    "    #A list of paragraph string will be returned.\n",
    "    with open(filename, encoding='utf-8') as f:\n",
    "        txt = f.read()\n",
    "    paragraphs = [para for para in txt.split(\"\\n\\n\") if len(para) > min_size]\n",
    "    return paragraphs\n"
   ]
  },
  {
   "cell_type": "code",
   "execution_count": 5,
   "id": "bdbe6fd2",
   "metadata": {},
   "outputs": [],
   "source": [
    "labels = ['Varginia Woolf', 'Samuel Butler', 'Herman Melville',\n",
    "         'David Herbert Lawrence','Daniel Defoe','James Joyce']\n",
    "\n",
    "files = ['night_and_day_virginia_woolf.txt','the_way_of_all_flash_butler.txt',\n",
    "         'moby_dick_melville.txt','sons_and_lovers_lawrence.txt',\n",
    "         'robinson_crusoe_defoe.txt','james_joyce_ulysses.txt']\n",
    "path = \"books/\""
   ]
  },
  {
   "cell_type": "code",
   "execution_count": 7,
   "id": "740b3fec",
   "metadata": {},
   "outputs": [],
   "source": [
    "data = []\n",
    "targets = []\n",
    "counter = 0\n",
    "for fname in files:\n",
    "    paras = text2paragraphs(path + fname, min_size=150)\n",
    "    data.extend(paras)\n",
    "    targets += [counter] * len(paras)\n",
    "    counter +=1"
   ]
  },
  {
   "cell_type": "code",
   "execution_count": 8,
   "id": "acc9fe99",
   "metadata": {},
   "outputs": [],
   "source": [
    "#cell is useless, because train_test_split will do the shuffling\n",
    "import random\n",
    "data_targets = list(zip(data, targets))\n",
    "#create random permuation on list\n",
    "data_targets = random.sample(data_targets,len(data_targets))\n",
    "\n",
    "data, targets = list(zip(*data_targets))"
   ]
  },
  {
   "cell_type": "code",
   "execution_count": 9,
   "id": "0abdfce2",
   "metadata": {},
   "outputs": [],
   "source": [
    "from sklearn.model_selection import train_test_split\n",
    "\n",
    "res = train_test_split(data, targets,\n",
    "                      train_size=0.8,\n",
    "                      test_size=0.2,\n",
    "                      random_state=42)\n",
    "train_data, test_data, train_targets, test_targets = res"
   ]
  },
  {
   "cell_type": "code",
   "execution_count": 12,
   "id": "2d91bc56",
   "metadata": {},
   "outputs": [
    {
     "name": "stdout",
     "output_type": "stream",
     "text": [
      "Accuracy Score:  0.9216113228089275\n",
      "F1-Score:  0.9151577285091399\n"
     ]
    }
   ],
   "source": [
    "from sklearn.feature_extraction.text import CountVectorizer, ENGLISH_STOP_WORDS\n",
    "from sklearn.naive_bayes import MultinomialNB\n",
    "from sklearn import metrics\n",
    "\n",
    "#Use list() to convert ENGLISH_STOP_WORDS from a frazenset to a list\n",
    "vectorizer = CountVectorizer(stop_words=list(ENGLISH_STOP_WORDS))\n",
    "vectors = vectorizer.fit_transform(train_data)\n",
    "\n",
    "#creating a classifier\n",
    "classifier = MultinomialNB(alpha=.01)\n",
    "classifier.fit(vectors, train_targets)\n",
    "\n",
    "vectors_test = vectorizer.transform(test_data)\n",
    "\n",
    "predictions = classifier.predict(vectors_test)\n",
    "accuracy_score = metrics.accuracy_score(test_targets, predictions)\n",
    "f1_score = metrics.f1_score(test_targets, predictions,average='macro')\n",
    "\n",
    "print('Accuracy Score: ', accuracy_score)\n",
    "print('F1-Score: ',f1_score)"
   ]
  },
  {
   "cell_type": "code",
   "execution_count": 14,
   "id": "4a352454",
   "metadata": {},
   "outputs": [
    {
     "name": "stdout",
     "output_type": "stream",
     "text": [
      "[0 0 0 0 0 0 0 0 0 0 0 0 0 0 0 0 0 0 0 0 0 0 0 0 0 0 0 0 0 0 0 0 0 0 0 0 0\n",
      " 5 0 0 0 0 0 0 0 0 0 0 0 0 0 0 0 0 0 0 1 0 0 0 0 0 0 0 0 0 0 0 0 0 0 0 0 0\n",
      " 0 0 0 0 0 0 0 0 0 0 0 0 0 0 0 0 0 0 0 0 0 0 0 0 0 0 0 0 0 0 0 0 0 0 0 0 0\n",
      " 0 0 0 0 5 0 0 0 0 5 0 0 0 0 0 0 0 0 0 0 0 0 0 0 0 0 0 0 0 0 0 0 0 0 0 0 0\n",
      " 0 0 0 0 0 0 0 0 0 0 0 0 0 0 0 0 0 0 0 0 0 0 0 0 0 0 0 0 0 0 0 0 0 0 0 0 0\n",
      " 0 0 0 0 0 0 0 0 0 0 0 0 0 0 0 0 0 0 0 0 0 0 0 0 0 0 0 0 0 0 0 0 0 0 0 0 0\n",
      " 0 0 0 0 0 0 0 0 0 0 0 0 0 0 0 0 0 0 0 0 0 0 0 0 0 0 0 0 0 0 0 5 0 0 0 0 0\n",
      " 0 0 0 0 0 0 0 0 0 0 0 0 0 0 0 0 0 0 0 0 0 0 0 0 0 0 0 0 0 0 0 0 0 0 0 0 0\n",
      " 0 0 0 0 0 0 0 0 0 0 0 0 0 0 0 0 0 0 0 0 0 0 0 0 0 0 0 0 0 0 0 0 0 0 0 0 0\n",
      " 0 0 0 0 0 0 0 0 0 0 0 0 0 0 0 0 0 0 0 0 0 0 0 0 0 0 0 0 0 0 0 0 0 0 0 0 0\n",
      " 0 0 0 0 0 0 0 0 0 0 0 0 0 0 0 0 0 0 0 0 0 0 0 0 0 0 0 0 0 0]\n",
      "accuracy score: 0.9875\n",
      "Precision score:  0.3333333333333333\n",
      "F1-score:  0.3312368972746331\n"
     ]
    }
   ],
   "source": [
    "paras = text2paragraphs(path + \"night_and_day_virginia_woolf.txt\",min_size=250)\n",
    "\n",
    "first_para, last_para = 100, 500\n",
    "vector_test = vectorizer.transform(paras[first_para: last_para])\n",
    "\n",
    "predictions = classifier.predict(vector_test)\n",
    "print(predictions)\n",
    "targets = [0] * (last_para - first_para)\n",
    "accuracy_score = metrics.accuracy_score(targets, predictions)\n",
    "precision_score = metrics.precision_score(targets,predictions,average='macro')\n",
    "f1_score = metrics.f1_score(targets, predictions, average='macro')\n",
    "\n",
    "print(\"accuracy score:\", accuracy_score)\n",
    "print(\"Precision score: \", precision_score)\n",
    "print(\"F1-score: \", f1_score)"
   ]
  },
  {
   "cell_type": "code",
   "execution_count": 15,
   "id": "96593ab4",
   "metadata": {},
   "outputs": [
    {
     "data": {
      "text/plain": [
       "array([[1.00000000e+000, 1.54960091e-143, 1.81216709e-136,\n",
       "        6.80508247e-127, 5.62859917e-176, 1.18259173e-118],\n",
       "       [1.00000000e+000, 2.53758451e-027, 6.79442950e-034,\n",
       "        1.12551181e-036, 8.01208252e-040, 1.05653616e-030],\n",
       "       [1.00000000e+000, 3.04370489e-038, 5.15073580e-030,\n",
       "        2.26788470e-039, 2.48405618e-045, 8.63038759e-028],\n",
       "       ...,\n",
       "       [1.00000000e+000, 1.86642267e-029, 6.50635954e-035,\n",
       "        4.37698367e-044, 2.36417378e-050, 1.75719197e-028],\n",
       "       [1.00000000e+000, 1.67954451e-071, 1.68702043e-075,\n",
       "        2.37790629e-108, 4.29295467e-111, 2.76249804e-078],\n",
       "       [1.00000000e+000, 1.60843314e-012, 1.05272005e-023,\n",
       "        9.97976135e-026, 3.58604533e-034, 9.99384162e-027]])"
      ]
     },
     "execution_count": 15,
     "metadata": {},
     "output_type": "execute_result"
    }
   ],
   "source": [
    "predictions = classifier.predict_proba(vector_test)\n",
    "predictions"
   ]
  },
  {
   "cell_type": "code",
   "execution_count": 17,
   "id": "d1f964fc",
   "metadata": {},
   "outputs": [
    {
     "name": "stdout",
     "output_type": "stream",
     "text": [
      "[1.00000000e+000 1.54960091e-143 1.81216709e-136 6.80508247e-127\n",
      " 5.62859917e-176 1.18259173e-118] The night was very still, and on such nights, when the traffic thins\n",
      "away, the walker becomes conscious of the moon in the street, as if the\n",
      "curtains of the sky had been drawn apart, and the heaven lay bare, as\n",
      "it does in the country. The air was softly cool, so that people who\n",
      "had been sitting talking in a crowd found it pleasant to walk a little\n",
      "before deciding to stop an omnibus or encounter light again in an\n",
      "underground railway. Sandys, who was a barrister with a philosophic\n",
      "tendency, took out his pipe, lit it, murmured “hum” and “ha,” and was\n",
      "silent. The couple in front of them kept their distance accurately, and\n",
      "appeared, so far as Denham could judge by the way they turned towards\n",
      "each other, to be talking very constantly. He observed that when a\n",
      "pedestrian going the opposite way forced them to part they came together\n",
      "again directly afterwards. Without intending to watch them he never\n",
      "quite lost sight of the yellow scarf twisted round Katharine’s head, or\n",
      "the light overcoat which made Rodney look fashionable among the crowd.\n",
      "At the Strand he supposed that they would separate, but instead they\n",
      "crossed the road, and took their way down one of the narrow passages\n",
      "which lead through ancient courts to the river. Among the crowd of\n",
      "people in the big thoroughfares Rodney seemed merely to be lending\n",
      "Katharine his escort, but now, when passengers were rare and the\n",
      "footsteps of the couple were distinctly heard in the silence, Denham\n",
      "could not help picturing to himself some change in their conversation.\n",
      "The effect of the light and shadow, which seemed to increase their\n",
      "height, was to make them mysterious and significant, so that Denham\n",
      "had no feeling of irritation with Katharine, but rather a half-dreamy\n",
      "acquiescence in the course of the world. Yes, she did very well to dream\n",
      "about--but Sandys had suddenly begun to talk. He was a solitary man who\n",
      "had made his friends at college and always addressed them as if they\n",
      "were still undergraduates arguing in his room, though many months or\n",
      "even years had passed in some cases between the last sentence and the\n",
      "present one. The method was a little singular, but very restful, for\n",
      "it seemed to ignore completely all accidents of human life, and to span\n",
      "very deep abysses with a few simple words.\n",
      "[1.00000000e+00 2.53758451e-27 6.79442950e-34 1.12551181e-36\n",
      " 8.01208252e-40 1.05653616e-30] Denham returned a suitable answer, and he proceeded to explain how\n",
      "this decision had been arrived at, and what changes it involved in the\n",
      "philosophy which they both accepted. Meanwhile Katharine and Rodney drew\n",
      "further ahead, and Denham kept, if that is the right expression for an\n",
      "involuntary action, one filament of his mind upon them, while with the\n",
      "rest of his intelligence he sought to understand what Sandys was saying.\n",
      "[1.00000000e+00 3.04370489e-38 5.15073580e-30 2.26788470e-39\n",
      " 2.48405618e-45 8.63038759e-28] As they passed through the courts thus talking, Sandys laid the tip of\n",
      "his stick upon one of the stones forming a time-worn arch, and struck\n",
      "it meditatively two or three times in order to illustrate something very\n",
      "obscure about the complex nature of one’s apprehension of facts. During\n",
      "the pause which this necessitated, Katharine and Rodney turned the\n",
      "corner and disappeared. For a moment Denham stopped involuntarily in his\n",
      "sentence, and continued it with a sense of having lost something.\n",
      "[9.99999574e-01 6.78667697e-23 4.25790312e-07 1.82777315e-12\n",
      " 4.48506314e-23 1.83572734e-13] They stood silent for a few moments while the river shifted in its bed,\n",
      "and the silver and red lights which were laid upon it were torn by the\n",
      "current and joined together again. Very far off up the river a steamer\n",
      "hooted with its hollow voice of unspeakable melancholy, as if from the\n",
      "heart of lonely mist-shrouded voyagings.\n",
      "[1.00000000e+00 2.00009770e-33 3.60955357e-44 4.61483772e-33\n",
      " 1.38954001e-61 2.71975057e-30] “Ah!” Rodney cried, striking his hand once more upon the balustrade,\n",
      "“why can’t one say how beautiful it all is? Why am I condemned for\n",
      "ever, Katharine, to feel what I can’t express? And the things I can give\n",
      "there’s no use in my giving. Trust me, Katharine,” he added hastily,\n",
      "“I won’t speak of it again. But in the presence of beauty--look at\n",
      "the iridescence round the moon!--one feels--one feels--Perhaps if you\n",
      "married me--I’m half a poet, you see, and I can’t pretend not to feel\n",
      "what I do feel. If I could write--ah, that would be another matter. I\n",
      "shouldn’t bother you to marry me then, Katharine.”\n",
      "[9.99965666e-01 1.72691669e-05 2.19946858e-10 1.67717883e-05\n",
      " 2.26566525e-10 2.92786212e-07] “Certainly I should. Not for you only, but for all women. Why, you’re\n",
      "nothing at all without it; you’re only half alive; using only half\n",
      "your faculties; you must feel that for yourself. That is why--” Here he\n",
      "stopped himself, and they began to walk slowly along the Embankment, the\n",
      "moon fronting them.\n",
      "[1.00000000e+00 6.44834519e-13 1.58820800e-19 4.72110891e-20\n",
      " 5.10498656e-23 8.54342713e-15] “I’ve been told a great many unpleasant things about myself to-night,”\n",
      " Katharine stated, without attending to him. “Mr. Denham seems to think\n",
      "it his mission to lecture me, though I hardly know him. By the way,\n",
      "William, you know him; tell me, what is he like?”\n",
      "[1.00000000e+00 5.03789305e-17 6.88585785e-27 1.96124730e-22\n",
      " 1.17924286e-30 3.19766467e-19] “And we write sonnets to your eyebrows, you cruel practical creature.\n",
      "Denham?” he added, as Katharine remained silent. “A good fellow, I\n",
      "should think. He cares, naturally, for the right sort of things, I\n",
      "expect. But you mustn’t marry him, though. He scolded you, did he--what\n",
      "did he say?”\n",
      "[1.00000000e+00 5.96719468e-17 2.55304167e-24 5.39976844e-25\n",
      " 4.91080058e-33 4.29994139e-22] “What happens with Mr. Denham is this: He comes to tea. I do all I can\n",
      "to put him at his ease. He merely sits and scowls at me. Then I show him\n",
      "our manuscripts. At this he becomes really angry, and tells me I’ve no\n",
      "business to call myself a middle-class woman. So we part in a huff; and\n",
      "next time we meet, which was to-night, he walks straight up to me, and\n",
      "says, ‘Go to the Devil!’ That’s the sort of behavior my mother complains\n",
      "of. I want to know, what does it mean?”\n",
      "[1.00000000e+00 5.86269558e-23 5.38842836e-24 7.35593043e-17\n",
      " 4.48071687e-27 8.57735265e-20] He looked back after the cab twice, suspiciously, half expecting that\n",
      "she would stop it and dismount; but it bore her swiftly on, and was\n",
      "soon out of sight. William felt in the mood for a short soliloquy of\n",
      "indignation, for Katharine had contrived to exasperate him in more ways\n",
      "than one.\n"
     ]
    }
   ],
   "source": [
    "for i in range(0,10):\n",
    "    print(predictions[i], paras[i + first_para])"
   ]
  },
  {
   "cell_type": "code",
   "execution_count": 19,
   "id": "8a54cde8",
   "metadata": {},
   "outputs": [
    {
     "name": "stdout",
     "output_type": "stream",
     "text": [
      "Creating a classifier. This will take some time!\n"
     ]
    }
   ],
   "source": [
    "from sklearn.feature_extraction.text import CountVectorizer, ENGLISH_STOP_WORDS\n",
    "from sklearn.neural_network import MLPClassifier\n",
    "from sklearn import metrics\n",
    "\n",
    "vectorizer = CountVectorizer(stop_words=list(ENGLISH_STOP_WORDS))\n",
    "vectors = vectorizer.fit_transform(train_data)\n",
    "print(\"Creating a classifier. This will take some time!\")\n",
    "classifier = MLPClassifier(random_state=1, max_iter=300).fit(vectors, train_targets)"
   ]
  },
  {
   "cell_type": "code",
   "execution_count": 20,
   "id": "b3e6a381",
   "metadata": {},
   "outputs": [
    {
     "name": "stdout",
     "output_type": "stream",
     "text": [
      "accuracy score:  0.9205225911812738\n",
      "F1-score:  0.9217613783828069\n"
     ]
    }
   ],
   "source": [
    "vectors_test = vectorizer.transform(test_data)\n",
    "predictions = classifier.predict(vectors_test)\n",
    "accuracy_score = metrics.accuracy_score(test_targets,predictions)\n",
    "f1_score = metrics.f1_score(test_targets,\n",
    "                            predictions,\n",
    "                            average='macro')\n",
    "print(\"accuracy score: \", accuracy_score)\n",
    "print(\"F1-score: \", f1_score)\n"
   ]
  },
  {
   "cell_type": "code",
   "execution_count": null,
   "id": "a8d9858a",
   "metadata": {},
   "outputs": [],
   "source": []
  }
 ],
 "metadata": {
  "kernelspec": {
   "display_name": "Python 3 (ipykernel)",
   "language": "python",
   "name": "python3"
  },
  "language_info": {
   "codemirror_mode": {
    "name": "ipython",
    "version": 3
   },
   "file_extension": ".py",
   "mimetype": "text/x-python",
   "name": "python",
   "nbconvert_exporter": "python",
   "pygments_lexer": "ipython3",
   "version": "3.11.2"
  }
 },
 "nbformat": 4,
 "nbformat_minor": 5
}
